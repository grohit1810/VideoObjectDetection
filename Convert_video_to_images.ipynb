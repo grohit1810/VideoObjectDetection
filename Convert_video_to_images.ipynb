{
 "cells": [
  {
   "cell_type": "code",
   "execution_count": 12,
   "metadata": {},
   "outputs": [
    {
     "name": "stdout",
     "output_type": "stream",
     "text": [
      "Directory  imageDir  Created \n"
     ]
    }
   ],
   "source": [
    "import os\n",
    "import cv2\n",
    "dirName = 'imageDir'\n",
    "try:\n",
    "    os.mkdir(dirName)\n",
    "    print(\"Directory \" , dirName ,  \" Created \") \n",
    "except FileExistsError:\n",
    "    print(\"Directory \" , dirName ,  \" already exists\")"
   ]
  },
  {
   "cell_type": "code",
   "execution_count": 13,
   "metadata": {},
   "outputs": [],
   "source": [
    "videoFile = 'video.mp4'\n",
    "dir_to_save = dirName\n",
    "def get_frame(videoCap, sec, image_count):\n",
    "    videoCap.set(cv2.CAP_PROP_POS_MSEC,sec*1000)\n",
    "    hasFrames,image = videoCap.read()\n",
    "    if hasFrames:\n",
    "#         image = cv2.resize(image, (360,360))\n",
    "        cv2.imwrite(dir_to_save + \"/image\"+str(image_count)+\".jpg\", image)     # save frame as JPG file\n",
    "    return hasFrames\n",
    "\n",
    "def convert_video_to_frames(videoFile, dir_to_save):\n",
    "    vidcap = cv2.VideoCapture('video.mp4')\n",
    "    sec = 0\n",
    "    frame_rate = 0.037\n",
    "    count=1\n",
    "    success = get_frame(vidcap, sec, count)\n",
    "    while success:\n",
    "        count = count + 1\n",
    "        sec = sec + frame_rate\n",
    "        sec = round(sec, 2)\n",
    "        success = get_frame(vidcap, sec, count)\n",
    "convert_video_to_frames(videoFile, dir_to_save)"
   ]
  },
  {
   "cell_type": "code",
   "execution_count": null,
   "metadata": {},
   "outputs": [],
   "source": []
  }
 ],
 "metadata": {
  "kernelspec": {
   "display_name": "Python 3",
   "language": "python",
   "name": "python3"
  },
  "language_info": {
   "codemirror_mode": {
    "name": "ipython",
    "version": 3
   },
   "file_extension": ".py",
   "mimetype": "text/x-python",
   "name": "python",
   "nbconvert_exporter": "python",
   "pygments_lexer": "ipython3",
   "version": "3.7.4"
  }
 },
 "nbformat": 4,
 "nbformat_minor": 2
}
