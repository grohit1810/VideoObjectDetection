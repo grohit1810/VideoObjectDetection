{
 "cells": [
  {
   "cell_type": "code",
   "execution_count": 5,
   "metadata": {},
   "outputs": [],
   "source": [
    "import os\n",
    "import cv2\n",
    "class ConvertVideoToFrames():\n",
    "    def __init__(self,video = \"video.mp4\", dirName = \"imageDir\"):\n",
    "        self.videoFile = video\n",
    "        self.dir_to_save = dirName\n",
    "        self.create_dir_if_not_exits(self.dir_to_save)\n",
    "    \n",
    "    def create_dir_if_not_exits(self, dirname):\n",
    "        try:\n",
    "            os.mkdir(dirname)\n",
    "        except FileExistsError:\n",
    "            pass\n",
    "        \n",
    "    def get_frame(self,videoCap, sec, image_count):\n",
    "        videoCap.set(cv2.CAP_PROP_POS_MSEC,sec*1000)\n",
    "        hasFrames,image = videoCap.read()\n",
    "        if hasFrames:\n",
    "            cv2.imwrite(self.dir_to_save + \"/image\"+str(image_count)+\".jpg\", image)     # save frame as JPG file\n",
    "        return hasFrames\n",
    "    \n",
    "    def convert_video_to_frames(self):\n",
    "        vidcap = cv2.VideoCapture('video.mp4')\n",
    "        sec = 0\n",
    "        frame_rate = 0.037\n",
    "        count=1\n",
    "        success = self.get_frame(vidcap, sec, count)\n",
    "        while success:\n",
    "            count = count + 1\n",
    "            sec = sec + frame_rate\n",
    "            sec = round(sec, 2)\n",
    "            success = self.get_frame(vidcap, sec, count)\n",
    "    "
   ]
  },
  {
   "cell_type": "code",
   "execution_count": 6,
   "metadata": {},
   "outputs": [],
   "source": [
    "videoToFrames = ConvertVideoToFrames()\n",
    "videoToFrames.convert_video_to_frames()"
   ]
  }
 ],
 "metadata": {
  "kernelspec": {
   "display_name": "Python 3",
   "language": "python",
   "name": "python3"
  },
  "language_info": {
   "codemirror_mode": {
    "name": "ipython",
    "version": 3
   },
   "file_extension": ".py",
   "mimetype": "text/x-python",
   "name": "python",
   "nbconvert_exporter": "python",
   "pygments_lexer": "ipython3",
   "version": "3.7.4"
  }
 },
 "nbformat": 4,
 "nbformat_minor": 2
}
