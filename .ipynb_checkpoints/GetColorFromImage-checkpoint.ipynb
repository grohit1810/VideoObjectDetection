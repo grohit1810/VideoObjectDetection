{
 "cells": [
  {
   "cell_type": "code",
   "execution_count": 11,
   "metadata": {},
   "outputs": [],
   "source": [
    "import cv2\n",
    "import numpy as np\n",
    "from os import walk\n",
    "import pickle\n",
    "imageFileNames = []\n",
    "for (dirpath, dirnames, filenames) in walk(\"CropImageOutput\"):\n",
    "    imageFileNames.extend(filenames)\n",
    "    break\n",
    "class ColorDetection:\n",
    "    \n",
    "    def __init__(self):\n",
    "        self.TARGET_COLORS = {\"Red\": (255, 0, 0), \"White\": (255, 255, 255), \"Blue\": (0, 0, 255), \"Black\":(0,0,0), \"Silver\":(192,192,192)}\n",
    "    \n",
    "    def color_difference (self,color1, color2):\n",
    "        return sum([abs(component1-component2) for component1, component2 in zip(color1, color2)])\n",
    "    \n",
    "    def get_dominant_color(self,color):\n",
    "        differences = [[self.color_difference(color, target_value), target_name] for target_name, target_value in self.TARGET_COLORS.items()]\n",
    "        differences.sort()\n",
    "        return differences[0][1]\n",
    "    \n",
    "    def color_detector1(self,img):\n",
    "        data = np.reshape(img, (-1,3))\n",
    "        data = np.float32(data)\n",
    "        criteria = (cv2.TERM_CRITERIA_EPS + cv2.TERM_CRITERIA_MAX_ITER, 10, 1.0)\n",
    "        flags = cv2.KMEANS_RANDOM_CENTERS\n",
    "        compactness,labels,centers = cv2.kmeans(data,1,None,criteria,10,flags)\n",
    "        return tuple(centers[0].astype(np.int32))\n",
    "    \n",
    "    def color_detector2(self,img):\n",
    "        colors, count = np.unique(img.reshape(-1,img.shape[-1]), axis=0, return_counts=True)\n",
    "        return tuple(colors[count.argmax()])\n",
    "    \n",
    "    def color_detector3(self,img):\n",
    "        avg_color_per_row = np.average(img, axis=0)\n",
    "        avg_color = np.average(avg_color_per_row, axis=0)\n",
    "        return tuple(avg_color)\n",
    "    \n",
    "    def get_prominent_color(self,filename):\n",
    "        img = cv2.imread('CropImageOutput/' + file)\n",
    "        vals = []\n",
    "        vals.append(self.get_dominant_color(self.color_detector1(img)))\n",
    "        vals.append(self.get_dominant_color(self.color_detector2(img)))\n",
    "        vals.append(self.get_dominant_color(self.color_detector3(img)))\n",
    "        color_value = max(set(vals), key = vals.count) \n",
    "        return filename, color_value"
   ]
  },
  {
   "cell_type": "code",
   "execution_count": 12,
   "metadata": {
    "scrolled": true
   },
   "outputs": [
    {
     "name": "stdout",
     "output_type": "stream",
     "text": [
      "{'1_image1.jpg': 'Silver', '1_image10.jpg': 'Black', '1_image100.jpg': 'Silver', '1_image101.jpg': 'Silver', '1_image102.jpg': 'Silver', '1_image103.jpg': 'Silver', '1_image104.jpg': 'Silver', '1_image1041.jpg': 'Black', '1_image1042.jpg': 'Black', '1_image1043.jpg': 'Black', '1_image1044.jpg': 'Black', '1_image1045.jpg': 'Black', '1_image1046.jpg': 'Black', '1_image1047.jpg': 'Black', '1_image1048.jpg': 'Black', '1_image1049.jpg': 'Black', '1_image105.jpg': 'Silver', '1_image1050.jpg': 'Black', '1_image1051.jpg': 'Black', '1_image1052.jpg': 'Black', '1_image1053.jpg': 'Black', '1_image1054.jpg': 'Black', '1_image1055.jpg': 'Black', '1_image1056.jpg': 'Black', '1_image1057.jpg': 'Black', '1_image1058.jpg': 'Black', '1_image1059.jpg': 'Black', '1_image106.jpg': 'Silver', '1_image1060.jpg': 'Black', '1_image1061.jpg': 'Black', '1_image1062.jpg': 'Black', '1_image1063.jpg': 'Black', '1_image1064.jpg': 'Black', '1_image1065.jpg': 'Black', '1_image1066.jpg': 'Black', '1_image107.jpg': 'Silver', '1_image108.jpg': 'Silver', '1_image109.jpg': 'Silver', '1_image11.jpg': 'Black', '1_image110.jpg': 'Silver', '1_image111.jpg': 'Silver', '1_image1115.jpg': 'Silver', '1_image1116.jpg': 'Silver', '1_image1117.jpg': 'Silver', '1_image1118.jpg': 'Black', '1_image1119.jpg': 'Black', '1_image112.jpg': 'Silver', '1_image1120.jpg': 'Black', '1_image1121.jpg': 'Black', '1_image1122.jpg': 'Black', '1_image1123.jpg': 'Black', '1_image1124.jpg': 'Black', '1_image1125.jpg': 'Black', '1_image1126.jpg': 'Black', '1_image1127.jpg': 'Black', '1_image1128.jpg': 'Black', '1_image1129.jpg': 'Black', '1_image113.jpg': 'Silver', '1_image1130.jpg': 'Black', '1_image1131.jpg': 'Black', '1_image1132.jpg': 'Black', '1_image1133.jpg': 'Black', '1_image1134.jpg': 'Black', '1_image1135.jpg': 'Black', '1_image1136.jpg': 'Black', '1_image1137.jpg': 'Silver', '1_image12.jpg': 'Black', '1_image13.jpg': 'Black', '1_image130.jpg': 'Silver', '1_image131.jpg': 'Silver', '1_image137.jpg': 'Silver', '1_image138.jpg': 'Silver', '1_image139.jpg': 'Black', '1_image14.jpg': 'Black', '1_image140.jpg': 'Black', '1_image141.jpg': 'Black', '1_image142.jpg': 'Black', '1_image143.jpg': 'Black', '1_image1436.jpg': 'Silver', '1_image1437.jpg': 'Silver', '1_image1438.jpg': 'Silver', '1_image144.jpg': 'Black', '1_image1440.jpg': 'Black', '1_image1441.jpg': 'Black', '1_image1442.jpg': 'Black', '1_image1443.jpg': 'Black', '1_image1444.jpg': 'Black', '1_image1445.jpg': 'Black', '1_image1446.jpg': 'Black', '1_image1447.jpg': 'Black', '1_image1448.jpg': 'Black', '1_image1449.jpg': 'Black', '1_image145.jpg': 'Black', '1_image1450.jpg': 'Black', '1_image1451.jpg': 'Black', '1_image1452.jpg': 'Black', '1_image1453.jpg': 'Black', '1_image1454.jpg': 'Black', '1_image1456.jpg': 'Black', '1_image1457.jpg': 'Black', '1_image1458.jpg': 'Black', '1_image146.jpg': 'Black', '1_image147.jpg': 'Black', '1_image148.jpg': 'Black', '1_image1484.jpg': 'Silver', '1_image149.jpg': 'Black', '1_image15.jpg': 'Black', '1_image150.jpg': 'Black', '1_image151.jpg': 'Black', '1_image152.jpg': 'Black', '1_image153.jpg': 'Black', '1_image154.jpg': 'Black', '1_image155.jpg': 'Black', '1_image156.jpg': 'Black', '1_image157.jpg': 'Black', '1_image158.jpg': 'Black', '1_image159.jpg': 'Black', '1_image16.jpg': 'Black', '1_image160.jpg': 'Black', '1_image161.jpg': 'Black', '1_image162.jpg': 'Black', '1_image17.jpg': 'Black', '1_image18.jpg': 'Black', '1_image19.jpg': 'Black', '1_image2.jpg': 'Silver', '1_image20.jpg': 'Black', '1_image21.jpg': 'Black', '1_image22.jpg': 'Black', '1_image3.jpg': 'Black', '1_image4.jpg': 'Silver', '1_image403.jpg': 'Silver', '1_image404.jpg': 'Silver', '1_image405.jpg': 'Silver', '1_image406.jpg': 'Silver', '1_image407.jpg': 'Silver', '1_image408.jpg': 'Silver', '1_image409.jpg': 'Silver', '1_image410.jpg': 'Silver', '1_image431.jpg': 'Silver', '1_image496.jpg': 'Silver', '1_image497.jpg': 'Silver', '1_image498.jpg': 'Silver', '1_image499.jpg': 'Silver', '1_image5.jpg': 'Silver', '1_image500.jpg': 'Silver', '1_image501.jpg': 'Silver', '1_image502.jpg': 'Silver', '1_image503.jpg': 'Silver', '1_image504.jpg': 'Silver', '1_image505.jpg': 'Silver', '1_image506.jpg': 'Silver', '1_image507.jpg': 'Silver', '1_image508.jpg': 'Silver', '1_image509.jpg': 'Silver', '1_image510.jpg': 'Silver', '1_image511.jpg': 'Silver', '1_image512.jpg': 'Silver', '1_image513.jpg': 'Silver', '1_image514.jpg': 'Silver', '1_image515.jpg': 'Silver', '1_image516.jpg': 'Silver', '1_image517.jpg': 'Silver', '1_image518.jpg': 'Silver', '1_image519.jpg': 'Silver', '1_image520.jpg': 'Silver', '1_image521.jpg': 'Silver', '1_image522.jpg': 'Silver', '1_image55.jpg': 'Black', '1_image575.jpg': 'Silver', '1_image576.jpg': 'Silver', '1_image577.jpg': 'Silver', '1_image578.jpg': 'Silver', '1_image58.jpg': 'Black', '1_image581.jpg': 'Silver', '1_image582.jpg': 'Silver', '1_image583.jpg': 'Silver', '1_image585.jpg': 'Silver', '1_image586.jpg': 'Silver', '1_image587.jpg': 'Silver', '1_image588.jpg': 'Silver', '1_image589.jpg': 'Silver', '1_image59.jpg': 'Black', '1_image590.jpg': 'Silver', '1_image591.jpg': 'Silver', '1_image592.jpg': 'Silver', '1_image593.jpg': 'Silver', '1_image594.jpg': 'Silver', '1_image595.jpg': 'Silver', '1_image596.jpg': 'Silver', '1_image597.jpg': 'Silver', '1_image598.jpg': 'Silver', '1_image599.jpg': 'Silver', '1_image6.jpg': 'Silver', '1_image600.jpg': 'Silver', '1_image601.jpg': 'Silver', '1_image61.jpg': 'Black', '1_image63.jpg': 'Black', '1_image64.jpg': 'Black', '1_image65.jpg': 'Black', '1_image651.jpg': 'Black', '1_image652.jpg': 'Black', '1_image653.jpg': 'Black', '1_image654.jpg': 'Black', '1_image655.jpg': 'Black', '1_image656.jpg': 'Black', '1_image657.jpg': 'Black', '1_image658.jpg': 'Black', '1_image659.jpg': 'Black', '1_image66.jpg': 'Black', '1_image660.jpg': 'Black', '1_image661.jpg': 'Black', '1_image662.jpg': 'Black', '1_image663.jpg': 'Black', '1_image664.jpg': 'Black', '1_image665.jpg': 'Black', '1_image666.jpg': 'Black', '1_image667.jpg': 'Black', '1_image668.jpg': 'Black', '1_image669.jpg': 'Black', '1_image67.jpg': 'Black', '1_image670.jpg': 'Black', '1_image671.jpg': 'Black', '1_image672.jpg': 'Black', '1_image673.jpg': 'Black', '1_image674.jpg': 'Black', '1_image675.jpg': 'Black', '1_image676.jpg': 'Black', '1_image677.jpg': 'Black', '1_image678.jpg': 'Black', '1_image679.jpg': 'Black', '1_image68.jpg': 'Black', '1_image69.jpg': 'Black', '1_image7.jpg': 'Black', '1_image70.jpg': 'Black', '1_image71.jpg': 'Black', '1_image72.jpg': 'Black', '1_image73.jpg': 'Black', '1_image74.jpg': 'Black', '1_image75.jpg': 'Black', '1_image76.jpg': 'Black', '1_image77.jpg': 'Black', '1_image78.jpg': 'Black', '1_image79.jpg': 'Black', '1_image8.jpg': 'Black', '1_image80.jpg': 'Black', '1_image801.jpg': 'Silver', '1_image802.jpg': 'Silver', '1_image803.jpg': 'Silver', '1_image804.jpg': 'Silver', '1_image805.jpg': 'Silver', '1_image806.jpg': 'Silver', '1_image807.jpg': 'Silver', '1_image808.jpg': 'Silver', '1_image809.jpg': 'Silver', '1_image810.jpg': 'Silver', '1_image811.jpg': 'Silver', '1_image812.jpg': 'Silver', '1_image813.jpg': 'Silver', '1_image814.jpg': 'Silver', '1_image815.jpg': 'Silver', '1_image816.jpg': 'Silver', '1_image817.jpg': 'Silver', '1_image818.jpg': 'Silver', '1_image819.jpg': 'Silver', '1_image820.jpg': 'Silver', '1_image821.jpg': 'Silver', '1_image822.jpg': 'Silver', '1_image823.jpg': 'Silver', '1_image824.jpg': 'Silver', '1_image825.jpg': 'Silver', '1_image842.jpg': 'Black', '1_image843.jpg': 'Black', '1_image844.jpg': 'Black', '1_image848.jpg': 'Black', '1_image852.jpg': 'Black', '1_image854.jpg': 'Black', '1_image855.jpg': 'Black', '1_image856.jpg': 'Silver', '1_image858.jpg': 'Black', '1_image859.jpg': 'Black', '1_image873.jpg': 'Silver', '1_image879.jpg': 'Silver', '1_image880.jpg': 'Silver', '1_image881.jpg': 'Silver', '1_image882.jpg': 'Silver', '1_image883.jpg': 'Silver', '1_image884.jpg': 'Silver', '1_image885.jpg': 'Silver', '1_image886.jpg': 'Silver', '1_image887.jpg': 'Silver', '1_image888.jpg': 'Silver', '1_image889.jpg': 'Silver', '1_image89.jpg': 'Silver', '1_image890.jpg': 'Silver', '1_image891.jpg': 'Silver', '1_image892.jpg': 'Silver', '1_image893.jpg': 'Silver', '1_image894.jpg': 'Silver', '1_image895.jpg': 'Silver', '1_image896.jpg': 'Silver', '1_image897.jpg': 'Silver', '1_image898.jpg': 'Silver', '1_image899.jpg': 'Silver', '1_image9.jpg': 'Black', '1_image90.jpg': 'Silver', '1_image91.jpg': 'Silver', '1_image92.jpg': 'Silver', '1_image93.jpg': 'Silver', '1_image934.jpg': 'Silver', '1_image935.jpg': 'Silver', '1_image936.jpg': 'Silver', '1_image937.jpg': 'Black', '1_image938.jpg': 'Black', '1_image939.jpg': 'Silver', '1_image94.jpg': 'Silver', '1_image940.jpg': 'Black', '1_image941.jpg': 'Black', '1_image942.jpg': 'Black', '1_image943.jpg': 'Black', '1_image944.jpg': 'Black', '1_image945.jpg': 'Black', '1_image946.jpg': 'Silver', '1_image947.jpg': 'Silver', '1_image948.jpg': 'Silver', '1_image949.jpg': 'Black', '1_image95.jpg': 'Silver', '1_image950.jpg': 'Silver', '1_image951.jpg': 'Black', '1_image952.jpg': 'Black', '1_image953.jpg': 'Black', '1_image954.jpg': 'Silver', '1_image955.jpg': 'Black', '1_image956.jpg': 'Black', '1_image957.jpg': 'Black', '1_image958.jpg': 'Silver', '1_image959.jpg': 'Silver', '1_image96.jpg': 'Silver', '1_image960.jpg': 'Silver', '1_image961.jpg': 'Silver', '1_image962.jpg': 'Silver', '1_image963.jpg': 'Silver', '1_image97.jpg': 'Silver', '1_image98.jpg': 'Silver', '1_image99.jpg': 'Silver', '2_image1120.jpg': 'Silver', '2_image1121.jpg': 'Black', '2_image1122.jpg': 'Black', '2_image142.jpg': 'Black', '2_image143.jpg': 'Black', '2_image144.jpg': 'Black', '2_image1442.jpg': 'Black', '2_image146.jpg': 'Black', '2_image147.jpg': 'Black', '2_image504.jpg': 'Silver', '2_image506.jpg': 'Silver', '2_image63.jpg': 'Black', '2_image64.jpg': 'Black', '2_image65.jpg': 'Black', '2_image659.jpg': 'Black', '2_image807.jpg': 'Silver', '2_image808.jpg': 'Silver', '2_image809.jpg': 'Silver', '2_image810.jpg': 'Silver', '2_image811.jpg': 'Silver', '2_image812.jpg': 'Silver', '2_image813.jpg': 'Silver', '2_image940.jpg': 'Silver', '2_image941.jpg': 'Black', '2_image942.jpg': 'Black', '2_image954.jpg': 'Black', '2_image957.jpg': 'Silver', '2_image98.jpg': 'Silver'}\n"
     ]
    }
   ],
   "source": [
    "colDetection = ColorDetection()\n",
    "data = {}\n",
    "for file in imageFileNames:\n",
    "    img = cv2.imread('CropImageOutput/' + file)\n",
    "    name, color = colDetection.get_prominent_color('CropImageOutput/' + file)\n",
    "    name = name.split(\"/\")[1]\n",
    "    data[name] = color\n",
    "print (data)\n",
    "\n",
    "pickle.dump(data, open(\"color_detection.pkl\", \"wb\"))"
   ]
  }
 ],
 "metadata": {
  "kernelspec": {
   "display_name": "Python 3",
   "language": "python",
   "name": "python3"
  },
  "language_info": {
   "codemirror_mode": {
    "name": "ipython",
    "version": 3
   },
   "file_extension": ".py",
   "mimetype": "text/x-python",
   "name": "python",
   "nbconvert_exporter": "python",
   "pygments_lexer": "ipython3",
   "version": "3.7.4"
  }
 },
 "nbformat": 4,
 "nbformat_minor": 2
}
